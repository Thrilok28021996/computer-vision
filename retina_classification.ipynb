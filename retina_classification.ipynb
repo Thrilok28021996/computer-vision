{
 "cells": [
  {
   "cell_type": "code",
   "execution_count": 2,
   "id": "da4a7286",
   "metadata": {},
   "outputs": [],
   "source": [
    "#!unzip '/Users/thrilok/Desktop/Datasets/kermany2018.zip'"
   ]
  },
  {
   "cell_type": "code",
   "execution_count": 3,
   "id": "4fa0f0bf",
   "metadata": {},
   "outputs": [],
   "source": [
    "import cv2\n",
    "import tensorflow as tf"
   ]
  },
  {
   "cell_type": "code",
   "execution_count": 4,
   "id": "2f3da300",
   "metadata": {},
   "outputs": [],
   "source": [
    "train_path = \"/Users/thrilok/Documents/computer-vision/OCT2017 /train\"\n",
    "val_path = \"/Users/thrilok/Documents/computer-vision/OCT2017 /val\"\n",
    "test_path = \"/Users/thrilok/Documents/computer-vision/OCT2017 /test\""
   ]
  },
  {
   "cell_type": "code",
   "execution_count": 5,
   "id": "b8de66e1",
   "metadata": {},
   "outputs": [
    {
     "name": "stderr",
     "output_type": "stream",
     "text": [
      "100%|████████████████████████████████████████████████████| 37205/37205 [00:00<00:00, 1218724.02it/s]\n",
      "100%|████████████████████████████████████████████████████| 11348/11348 [00:00<00:00, 1232539.08it/s]\n",
      "100%|██████████████████████████████████████████████████████| 8616/8616 [00:00<00:00, 1236548.27it/s]\n",
      "100%|████████████████████████████████████████████████████| 26315/26315 [00:00<00:00, 1297209.96it/s]\n"
     ]
    }
   ],
   "source": [
    "from tqdm import tqdm\n",
    "from PIL import Image\n",
    "import os\n",
    "\n",
    "\n",
    "X_train = []\n",
    "Y_train = []\n",
    "\n",
    "for target in os.listdir(train_path):\n",
    "    target_path = os.path.join(train_path,target)\n",
    "    for file in tqdm(os.listdir(target_path)):\n",
    "        file_path = os.path.join(target_path,file)\n",
    "        X_train.append(file_path)\n",
    "        Y_train.append(target)"
   ]
  },
  {
   "cell_type": "code",
   "execution_count": 6,
   "id": "c3607f18",
   "metadata": {},
   "outputs": [
    {
     "name": "stderr",
     "output_type": "stream",
     "text": [
      "100%|█████████████████████████████████████████████████████████████| 8/8 [00:00<00:00, 190650.18it/s]\n",
      "100%|█████████████████████████████████████████████████████████████| 8/8 [00:00<00:00, 250406.21it/s]\n",
      "100%|█████████████████████████████████████████████████████████████| 8/8 [00:00<00:00, 284359.59it/s]\n",
      "100%|█████████████████████████████████████████████████████████████| 8/8 [00:00<00:00, 241398.79it/s]\n"
     ]
    }
   ],
   "source": [
    "X_val = []\n",
    "Y_val = []\n",
    "\n",
    "for target in os.listdir(val_path):\n",
    "    target_path = os.path.join(val_path,target)\n",
    "    for file in tqdm(os.listdir(target_path)):\n",
    "        file_path = os.path.join(target_path,file)\n",
    "        X_val.append(file_path)\n",
    "        Y_val.append(target)"
   ]
  },
  {
   "cell_type": "code",
   "execution_count": 7,
   "id": "9eada2ea",
   "metadata": {},
   "outputs": [
    {
     "name": "stderr",
     "output_type": "stream",
     "text": [
      "100%|█████████████████████████████████████████████████████████| 242/242 [00:00<00:00, 401352.93it/s]\n",
      "100%|█████████████████████████████████████████████████████████| 242/242 [00:00<00:00, 404713.54it/s]\n",
      "100%|█████████████████████████████████████████████████████████| 242/242 [00:00<00:00, 366698.54it/s]\n",
      "100%|█████████████████████████████████████████████████████████| 242/242 [00:00<00:00, 279466.29it/s]\n"
     ]
    }
   ],
   "source": [
    "X_test = []\n",
    "Y_test = []\n",
    "\n",
    "for target in os.listdir(test_path):\n",
    "    target_path = os.path.join(test_path,target)\n",
    "    for file in tqdm(os.listdir(target_path)):\n",
    "        file_path = os.path.join(target_path,file)\n",
    "        X_test.append(file_path)\n",
    "        Y_test.append(target)"
   ]
  },
  {
   "cell_type": "code",
   "execution_count": 8,
   "id": "47c74a94",
   "metadata": {},
   "outputs": [
    {
     "data": {
      "text/plain": [
       "<AxesSubplot:ylabel='count'>"
      ]
     },
     "execution_count": 8,
     "metadata": {},
     "output_type": "execute_result"
    },
    {
     "data": {
      "image/png": "[encoded data removed]",
      "text/plain": [
       "<Figure size 432x288 with 1 Axes>"
      ]
     },
     "metadata": {
      "needs_background": "light"
     },
     "output_type": "display_data"
    }
   ],
   "source": [
    "import seaborn as sns\n",
    "sns.countplot(x = Y_train)"
   ]
  },
  {
   "cell_type": "code",
   "execution_count": 10,
   "id": "e76605c2",
   "metadata": {},
   "outputs": [],
   "source": [
    "import pandas as pd\n",
    "df_train = pd.DataFrame(list(zip(X_train, Y_train)), columns =['image_path', 'label'])\n",
    "df_val = pd.DataFrame(list(zip(X_val,Y_val)), columns=['image_path','label'])\n",
    "df_test = pd.DataFrame(list(zip(X_test,Y_test)), columns=['image_path','label'])"
   ]
  },
  {
   "cell_type": "code",
   "execution_count": 11,
   "id": "2bb461ea",
   "metadata": {},
   "outputs": [
    {
     "name": "stdout",
     "output_type": "stream",
     "text": [
      "Found 83484 validated image filenames belonging to 4 classes.\n",
      "Found 32 validated image filenames belonging to 4 classes.\n",
      "Found 968 validated image filenames belonging to 4 classes.\n"
     ]
    }
   ],
   "source": [
    "from keras.preprocessing.image import ImageDataGenerator\n",
    "\n",
    "train_aug = ImageDataGenerator(\n",
    "    horizontal_flip=True,\n",
    "    width_shift_range=0.05,\n",
    "    height_shift_range=0.05,\n",
    "    zoom_range=0.05,\n",
    "    rescale = 1./255,\n",
    "    preprocessing_function=tf.keras.applications.vgg16.preprocess_input\n",
    ")\n",
    "\n",
    "test_aug = ImageDataGenerator(\n",
    "    rescale = 1./255,\n",
    "    preprocessing_function=tf.keras.applications.vgg16.preprocess_input\n",
    ")\n",
    "\n",
    "train_generator= train_aug.flow_from_dataframe(\n",
    "    dataframe=df_train,\n",
    "    x_col=\"image_path\",\n",
    "    y_col=\"label\",\n",
    "    batch_size=16,\n",
    "    color_mode=\"rgb\",\n",
    "    target_size = (224, 224),\n",
    "    class_mode=\"categorical\")\n",
    "\n",
    "val_generator= test_aug.flow_from_dataframe(\n",
    "    dataframe=df_val,\n",
    "    x_col=\"image_path\",\n",
    "    y_col=\"label\",\n",
    "    batch_size=16,\n",
    "    color_mode=\"rgb\",\n",
    "    target_size = (224, 224),\n",
    "    class_mode=\"categorical\")\n",
    "\n",
    "test_generator= test_aug.flow_from_dataframe(\n",
    "    dataframe=df_test,\n",
    "    x_col=\"image_path\",\n",
    "    y_col=\"label\",\n",
    "    color_mode=\"rgb\",\n",
    "    batch_size=16,\n",
    "    shuffle = False, \n",
    "    target_size = (224, 224),\n",
    "    class_mode=\"categorical\")"
   ]
  },
  {
   "cell_type": "code",
   "execution_count": 22,
   "id": "b145cd4f",
   "metadata": {},
   "outputs": [],
   "source": [
    "from tensorflow.keras.applications.vgg16 import VGG16\n",
    "from keras.layers import Activation,Dense, Dropout, Flatten, Conv2D, MaxPool2D, MaxPooling2D,AveragePooling2D, BatchNormalization, PReLU, ReLU\n",
    "from keras.models import Model\n",
    "from keras.applications.inception_v3 import InceptionV3\n",
    "# from keras.applications import InceptionResNetV2\n",
    "\n",
    "def generate_model(pretrained_model = 'vgg16', num_classes=4):\n",
    "    if pretrained_model == 'inceptionv3':\n",
    "        base_model = InceptionV3(weights = 'imagenet', include_top=False, input_shape=(224, 224, 3))\n",
    "    elif pretrained_model == 'inceptionresnet':\n",
    "        base_model = InceptionResNetV2(weights = 'imagenet', include_top=False, input_shape=(224, 224, 3))\n",
    "    else:\n",
    "        base_model = VGG16(weights = 'imagenet', include_top=False, input_shape=(224, 224, 3)) # Topless\n",
    "    \n",
    "    x = base_model.output\n",
    "    x = Flatten()(x)\n",
    "    x = Dense(4096)(x)\n",
    "    x = ReLU()(x)\n",
    "    x = Dropout(0.5)(x)\n",
    "    x = Dense(4096)(x)\n",
    "    x = ReLU()(x)\n",
    "    x = Dropout(0.5)(x)\n",
    "    predictions = Dense(num_classes, activation='softmax')(x)\n",
    "    model = Model(inputs=base_model.input, outputs=predictions)\n",
    "    \n",
    "    #Freezing Convolutional Base\n",
    "    for layer in base_model.layers[:-3]:\n",
    "        layer.trainable = False  \n",
    "    return model"
   ]
  },
  {
   "cell_type": "code",
   "execution_count": 23,
   "id": "5590338d",
   "metadata": {},
   "outputs": [],
   "source": [
    "def train_model(model, train_generator, test_generator, num_epochs, optimizer, metrics):\n",
    "    model.compile(loss='categorical_crossentropy', \n",
    "                  optimizer=optimizer, \n",
    "                  metrics=metrics)\n",
    "    early_stop = tf.keras.callbacks.EarlyStopping(monitor=\"val_accuracy\",patience=6, verbose=1)\n",
    "    rlr = tf.keras.callbacks.ReduceLROnPlateau(monitor=\"val_loss\", factor=0.1, patience=7)\n",
    "    print(model.summary())\n",
    "    \n",
    "    history = model.fit(train_generator, epochs=num_epochs, \n",
    "                        validation_data=test_generator, verbose=1,\n",
    "                        callbacks = [early_stop, rlr])\n",
    "    \n",
    "    return model, history\n"
   ]
  },
  {
   "cell_type": "code",
   "execution_count": 24,
   "id": "e883ad98",
   "metadata": {},
   "outputs": [],
   "source": [
    "import itertools\n",
    "import sklearn\n",
    "from sklearn.model_selection import train_test_split\n",
    "from sklearn.utils import class_weight\n",
    "from sklearn.preprocessing import LabelBinarizer\n",
    "from sklearn.metrics import roc_curve, auc, roc_auc_score, confusion_matrix, classification_report\n",
    "\n",
    "metrics = ['accuracy',\n",
    "                tf.keras.metrics.AUC(),\n",
    "                tfa.metrics.CohenKappa(num_classes = 4),\n",
    "                tfa.metrics.F1Score(num_classes = 4),\n",
    "                tf.keras.metrics.Precision(), \n",
    "                tf.keras.metrics.Recall()]\n",
    "\n",
    "def plot_loss(history):\n",
    "    plt.plot(history.history['loss'])\n",
    "    plt.plot(history.history['val_loss'])\n",
    "    plt.title('model loss')\n",
    "    plt.ylabel('loss')\n",
    "    plt.xlabel('epoch')\n",
    "    plt.legend(['train', 'val'], loc='upper left')\n",
    "    \n",
    "def plot_acc(history):\n",
    "    plt.plot(history.history['accuracy'])\n",
    "    plt.plot(history.history['val_accuracy'])\n",
    "    plt.title('model accuracy')\n",
    "    plt.ylabel('accuracy')\n",
    "    plt.xlabel('epoch')\n",
    "    plt.legend(['train', 'val'], loc='upper left')\n",
    "    \n",
    "# It prints & plots the confusion matrix, normalization can be applied by setting normalize=True.\n",
    "    \n",
    "def plot_confusion_matrix(cm, classes,normalize=False,title='Confusion matrix',cmap=plt.cm.Blues):\n",
    "\n",
    "    plt.figure(figsize = (5,5))\n",
    "    plt.imshow(cm, interpolation='nearest', cmap=cmap)\n",
    "    plt.title(title)\n",
    "    plt.colorbar()\n",
    "    tick_marks = np.arange(len(classes))\n",
    "    plt.xticks(tick_marks, classes, rotation=90)\n",
    "    plt.yticks(tick_marks, classes)\n",
    "    if normalize:\n",
    "        cm = cm.astype('float') / cm.sum(axis=1)[:, np.newaxis]\n",
    "\n",
    "    thresh = cm.max() / 2.\n",
    "    for i, j in itertools.product(range(cm.shape[0]), range(cm.shape[1])):\n",
    "        plt.text(j, i, cm[i, j],\n",
    "                 horizontalalignment=\"center\",\n",
    "                 color=\"white\" if cm[i, j] > thresh else \"black\")\n",
    "    plt.tight_layout()\n",
    "    plt.ylabel('True label')\n",
    "    plt.xlabel('Predicted label')\n",
    "\n",
    "def plot_roc_curves(y_true, y_pred, num_classes, class_labels):\n",
    "    \n",
    "    lb = LabelBinarizer()\n",
    "    lb.fit(y_true)\n",
    "    y_test = lb.transform(y_true)\n",
    "\n",
    "    # Compute ROC curve and ROC area for each class\n",
    "    fpr = dict()\n",
    "    tpr = dict()\n",
    "    roc_auc = dict()\n",
    "    for i in range(num_classes):\n",
    "        fpr[i], tpr[i], _ = roc_curve(y_test[:, i], y_pred[:, i])\n",
    "        roc_auc[i] = auc(fpr[i], tpr[i])\n",
    "\n",
    "    # Plot all ROC curves\n",
    "    for i in range(num_classes):\n",
    "        fig, c_ax = plt.subplots(1,1, figsize = (6, 4))\n",
    "        c_ax.plot(fpr[i], tpr[i],\n",
    "                 label='ROC curve of class {0} (area = {1:0.4f})'\n",
    "                 ''.format(class_labels[i], roc_auc[i]))\n",
    "        c_ax.set_xlabel('False Positive Rate')\n",
    "        c_ax.set_ylabel('True Positive Rate')\n",
    "        c_ax.set_title('ROC curve of class {0}'.format(class_labels[i]))\n",
    "        c_ax.legend(loc=\"lower right\")\n",
    "        plt.show()\n",
    "    return roc_auc_score(y_test, y_pred)"
   ]
  },
  {
   "cell_type": "code",
   "execution_count": 25,
   "id": "831439dc",
   "metadata": {},
   "outputs": [],
   "source": [
    "def evaluate_model(model, history, test_generator):\n",
    "    # Evaluate model\n",
    "    score = model.evaluate(test_generator, verbose=0)\n",
    "    print('\\nTest set accuracy:', score[1], '\\n')\n",
    "    \n",
    "    y_true = np.array(test_generator.labels)\n",
    "    y_pred = model.predict(test_generator, verbose = 1)\n",
    "    y_pred_classes = np.argmax(y_pred,axis = 1)\n",
    "    class_labels = list(test_generator.class_indices.keys())   \n",
    "    \n",
    "    print('\\n', sklearn.metrics.classification_report(y_true, y_pred_classes, target_names=class_labels), sep='')\n",
    "    confusion_mtx = confusion_matrix(y_true, y_pred_classes)\n",
    "    plot_acc(history)\n",
    "    plt.show()\n",
    "    plot_loss(history)\n",
    "    plt.show()\n",
    "    plot_confusion_matrix(confusion_mtx, classes = class_labels)\n",
    "    plt.show()\n",
    "    print(\"ROC AUC score:\", plot_roc_curves(y_true, y_pred, 4, class_labels))\n"
   ]
  },
  {
   "cell_type": "code",
   "execution_count": 26,
   "id": "0be7023a",
   "metadata": {},
   "outputs": [],
   "source": [
    "vgg_model = generate_model('vgg16',4)"
   ]
  },
  {
   "cell_type": "code",
   "execution_count": null,
   "id": "17ed1005",
   "metadata": {},
   "outputs": [
    {
     "name": "stderr",
     "output_type": "stream",
     "text": [
      "/Users/thrilok/miniforge3/envs/tensorflow/lib/python3.9/site-packages/keras/optimizer_v2/optimizer_v2.py:355: UserWarning: The `lr` argument is deprecated, use `learning_rate` instead.\n",
      "  warnings.warn(\n",
      "2022-09-05 22:20:01.527292: W tensorflow/core/platform/profile_utils/cpu_utils.cc:128] Failed to get CPU frequency: 0 Hz\n"
     ]
    },
    {
     "name": "stdout",
     "output_type": "stream",
     "text": [
      "Model: \"model\"\n",
      "_________________________________________________________________\n",
      "Layer (type)                 Output Shape              Param #   \n",
      "=================================================================\n",
      "input_2 (InputLayer)         [(None, 224, 224, 3)]     0         \n",
      "_________________________________________________________________\n",
      "block1_conv1 (Conv2D)        (None, 224, 224, 64)      1792      \n",
      "_________________________________________________________________\n",
      "block1_conv2 (Conv2D)        (None, 224, 224, 64)      36928     \n",
      "_________________________________________________________________\n",
      "block1_pool (MaxPooling2D)   (None, 112, 112, 64)      0         \n",
      "_________________________________________________________________\n",
      "block2_conv1 (Conv2D)        (None, 112, 112, 128)     73856     \n",
      "_________________________________________________________________\n",
      "block2_conv2 (Conv2D)        (None, 112, 112, 128)     147584    \n",
      "_________________________________________________________________\n",
      "block2_pool (MaxPooling2D)   (None, 56, 56, 128)       0         \n",
      "_________________________________________________________________\n",
      "block3_conv1 (Conv2D)        (None, 56, 56, 256)       295168    \n",
      "_________________________________________________________________\n",
      "block3_conv2 (Conv2D)        (None, 56, 56, 256)       590080    \n",
      "_________________________________________________________________\n",
      "block3_conv3 (Conv2D)        (None, 56, 56, 256)       590080    \n",
      "_________________________________________________________________\n",
      "block3_pool (MaxPooling2D)   (None, 28, 28, 256)       0         \n",
      "_________________________________________________________________\n",
      "block4_conv1 (Conv2D)        (None, 28, 28, 512)       1180160   \n",
      "_________________________________________________________________\n",
      "block4_conv2 (Conv2D)        (None, 28, 28, 512)       2359808   \n",
      "_________________________________________________________________\n",
      "block4_conv3 (Conv2D)        (None, 28, 28, 512)       2359808   \n",
      "_________________________________________________________________\n",
      "block4_pool (MaxPooling2D)   (None, 14, 14, 512)       0         \n",
      "_________________________________________________________________\n",
      "block5_conv1 (Conv2D)        (None, 14, 14, 512)       2359808   \n",
      "_________________________________________________________________\n",
      "block5_conv2 (Conv2D)        (None, 14, 14, 512)       2359808   \n",
      "_________________________________________________________________\n",
      "block5_conv3 (Conv2D)        (None, 14, 14, 512)       2359808   \n",
      "_________________________________________________________________\n",
      "block5_pool (MaxPooling2D)   (None, 7, 7, 512)         0         \n",
      "_________________________________________________________________\n",
      "flatten (Flatten)            (None, 25088)             0         \n",
      "_________________________________________________________________\n",
      "dense (Dense)                (None, 4096)              102764544 \n",
      "_________________________________________________________________\n",
      "re_lu (ReLU)                 (None, 4096)              0         \n",
      "_________________________________________________________________\n",
      "dropout (Dropout)            (None, 4096)              0         \n",
      "_________________________________________________________________\n",
      "dense_1 (Dense)              (None, 4096)              16781312  \n",
      "_________________________________________________________________\n",
      "re_lu_1 (ReLU)               (None, 4096)              0         \n",
      "_________________________________________________________________\n",
      "dropout_1 (Dropout)          (None, 4096)              0         \n",
      "_________________________________________________________________\n",
      "dense_2 (Dense)              (None, 4)                 16388     \n",
      "=================================================================\n",
      "Total params: 134,276,932\n",
      "Trainable params: 134,276,932\n",
      "Non-trainable params: 0\n",
      "_________________________________________________________________\n",
      "None\n",
      "Epoch 1/50\n"
     ]
    },
    {
     "name": "stderr",
     "output_type": "stream",
     "text": [
      "2022-09-05 22:20:02.423331: I tensorflow/core/grappler/optimizers/custom_graph_optimizer_registry.cc:112] Plugin optimizer for device_type GPU is enabled.\n"
     ]
    },
    {
     "name": "stdout",
     "output_type": "stream",
     "text": [
      " 419/5218 [=>............................] - ETA: 2:03:40 - loss: 1876148443870781704765440.0000 - accuracy: 0.4558 - auc_4: 0.6960 - cohen_kappa: 8.7839e-04 - f1_score: 0.1649 - precision_3: 0.3032 - recall_3: 0.0070"
     ]
    }
   ],
   "source": [
    "vgg_model, vgg_history = train_model(vgg_model, train_generator, val_generator, 50, tf.keras.optimizers.SGD(lr=0.001, momentum=0.9), metrics)"
   ]
  },
  {
   "cell_type": "code",
   "execution_count": null,
   "id": "eba1ce52",
   "metadata": {},
   "outputs": [],
   "source": [
    "evaluate_model(vgg_model, vgg_history, test_generator)"
   ]
  }
 ],
 "metadata": {
  "kernelspec": {
   "display_name": "Python 3 (ipykernel)",
   "language": "python",
   "name": "python3"
  },
  "language_info": {
   "codemirror_mode": {
    "name": "ipython",
    "version": 3
   },
   "file_extension": ".py",
   "mimetype": "text/x-python",
   "name": "python",
   "nbconvert_exporter": "python",
   "pygments_lexer": "ipython3",
   "version": "3.9.5"
  }
 },
 "nbformat": 4,
 "nbformat_minor": 5
}
